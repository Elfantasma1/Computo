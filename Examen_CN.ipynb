{
 "cells": [
  {
   "cell_type": "code",
   "execution_count": 1,
   "metadata": {},
   "outputs": [
    {
     "data": {
      "text/plain": [
       "True"
      ]
     },
     "execution_count": 1,
     "metadata": {},
     "output_type": "execute_result"
    }
   ],
   "source": [
    "def num_primo(n):\n",
    "    if n < 2: return False\n",
    "    for i in range (2, int(n/2)+1):\n",
    "        if n % i == 0: return False\n",
    "    return True\n",
    "\n",
    "num_primo(7)"
   ]
  },
  {
   "cell_type": "code",
   "execution_count": 3,
   "metadata": {},
   "outputs": [
    {
     "data": {
      "text/plain": [
       "5"
      ]
     },
     "execution_count": 3,
     "metadata": {},
     "output_type": "execute_result"
    }
   ],
   "source": [
    "def num_prim_sig(n):\n",
    "    if not num_primo: return False\n",
    "    i = 0\n",
    "    while True:\n",
    "        i += 1\n",
    "        if num_primo(n+i): return(n+i)\n",
    "    \n",
    "num_prim_sig(4)\n"
   ]
  },
  {
   "cell_type": "code",
   "execution_count": 5,
   "metadata": {},
   "outputs": [
    {
     "name": "stdout",
     "output_type": "stream",
     "text": [
      "2\n"
     ]
    }
   ],
   "source": [
    "def median(datos):\n",
    "    mitad = len(datos) // 2\n",
    "    datos.sort()\n",
    "    return datos[mitad]\n",
    "\n",
    "lista= [1,3,2]\n",
    "print(median(lista))"
   ]
  },
  {
   "cell_type": "code",
   "execution_count": 8,
   "metadata": {},
   "outputs": [
    {
     "data": {
      "text/plain": [
       "'MjSs\")d'"
      ]
     },
     "execution_count": 8,
     "metadata": {},
     "output_type": "execute_result"
    }
   ],
   "source": [
    "import random\n",
    "def contra_random():\n",
    "    contra = \"\"\n",
    "    for i in range (1,random.randrange(7,10)):\n",
    "        contra += chr(random.randrange(33, 126, 1))\n",
    "    return contra\n",
    "\n",
    "contra_random()"
   ]
  },
  {
   "cell_type": "code",
   "execution_count": 9,
   "metadata": {},
   "outputs": [
    {
     "data": {
      "text/plain": [
       "5.0"
      ]
     },
     "execution_count": 9,
     "metadata": {},
     "output_type": "execute_result"
    }
   ],
   "source": [
    "def hipotenusa(a,b):\n",
    "    return(a**2+b**2)**.5\n",
    "\n",
    "hipotenusa(3,4)"
   ]
  }
 ],
 "metadata": {
  "kernelspec": {
   "display_name": "Python 3",
   "language": "python",
   "name": "python3"
  },
  "language_info": {
   "codemirror_mode": {
    "name": "ipython",
    "version": 3
   },
   "file_extension": ".py",
   "mimetype": "text/x-python",
   "name": "python",
   "nbconvert_exporter": "python",
   "pygments_lexer": "ipython3",
   "version": "3.11.5"
  },
  "orig_nbformat": 4
 },
 "nbformat": 4,
 "nbformat_minor": 2
}
