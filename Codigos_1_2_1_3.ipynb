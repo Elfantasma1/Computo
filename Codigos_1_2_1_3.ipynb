{
  "nbformat": 4,
  "nbformat_minor": 0,
  "metadata": {
    "colab": {
      "provenance": [],
      "authorship_tag": "ABX9TyO+PRancHjejFuz+0q3LHzz",
      "include_colab_link": true
    },
    "kernelspec": {
      "name": "python3",
      "display_name": "Python 3"
    },
    "language_info": {
      "name": "python"
    }
  },
  "cells": [
    {
      "cell_type": "markdown",
      "metadata": {
        "id": "view-in-github",
        "colab_type": "text"
      },
      "source": [
        "<a href=\"https://colab.research.google.com/github/Elfantasma1/Computo/blob/main/Codigos_1_2_1_3.ipynb\" target=\"_parent\"><img src=\"https://colab.research.google.com/assets/colab-badge.svg\" alt=\"Open In Colab\"/></a>"
      ]
    },
    {
      "cell_type": "code",
      "execution_count": null,
      "metadata": {
        "colab": {
          "base_uri": "https://localhost:8080/"
        },
        "id": "J-icYHFYodmD",
        "outputId": "8f4e3c2b-1ab3-4264-f867-b4278fbc29f0"
      },
      "outputs": [
        {
          "output_type": "execute_result",
          "data": {
            "text/plain": [
              "3628800"
            ]
          },
          "metadata": {},
          "execution_count": 9
        }
      ],
      "source": [
        "def factorial(n):\n",
        "  if n in (0,1):\n",
        "    return 1\n",
        "\n",
        "  return factorial(n-1)*n\n",
        "\n",
        "factorial(10)"
      ]
    },
    {
      "cell_type": "code",
      "source": [
        "from math import sqrt, ceil\n",
        "\n",
        "def numeros_primos(n):\n",
        "  num_prim = []\n",
        "  for candidato in range(2, n + 1):\n",
        "    is_prime = True\n",
        "    root = ceil(sqrt(candidato))\n",
        "    for primo in num_prim:\n",
        "      if primo > root:\n",
        "        break\n",
        "      if candidato % primo == 0:\n",
        "        is_prime = False\n",
        "        break\n",
        "    if is_prime:\n",
        "      num_prim.append(candidato)\n",
        "  return num_prim\n",
        "\n",
        "numeros_primos(25)"
      ],
      "metadata": {
        "colab": {
          "base_uri": "https://localhost:8080/"
        },
        "id": "bqZgu8nM0zrZ",
        "outputId": "6dd6e5be-8d3d-4539-f773-cfb85307741f"
      },
      "execution_count": null,
      "outputs": [
        {
          "output_type": "execute_result",
          "data": {
            "text/plain": [
              "[2, 3, 5, 7, 11, 13, 17, 19, 23]"
            ]
          },
          "metadata": {},
          "execution_count": 25
        }
      ]
    },
    {
      "cell_type": "code",
      "source": [
        "def multiples(a,b):\n",
        "  return a//b, a%b\n",
        "\n",
        "print(multiples(20,7))"
      ],
      "metadata": {
        "colab": {
          "base_uri": "https://localhost:8080/"
        },
        "id": "L1bpGuYV5NsC",
        "outputId": "f28c5a1b-d740-4d0e-ce8f-d8b8077f34bd"
      },
      "execution_count": null,
      "outputs": [
        {
          "output_type": "stream",
          "name": "stdout",
          "text": [
            "(2, 6)\n"
          ]
        }
      ]
    },
    {
      "cell_type": "code",
      "source": [
        "def funcion(**kwargs):\n",
        "  print(kwargs)\n",
        "\n",
        "funcion(a = 1, b = 3)\n",
        "funcion()"
      ],
      "metadata": {
        "colab": {
          "base_uri": "https://localhost:8080/"
        },
        "id": "Psp5GgTH6jNA",
        "outputId": "e92060bd-f8b4-4a4d-a106-98be9174be3d"
      },
      "execution_count": null,
      "outputs": [
        {
          "output_type": "stream",
          "name": "stdout",
          "text": [
            "{'a': 1, 'b': 3}\n",
            "{}\n"
          ]
        }
      ]
    },
    {
      "cell_type": "code",
      "source": [
        "def minimo(*n):\n",
        "  if n:\n",
        "    mn = n[0]\n",
        "    for value in n[1:]:\n",
        "      if value < mn:\n",
        "        mn = value\n",
        "    print(mn)\n",
        "\n",
        "minimo(1,3,-7,9)"
      ],
      "metadata": {
        "colab": {
          "base_uri": "https://localhost:8080/"
        },
        "id": "uXnl-q0o7SMK",
        "outputId": "bb3e67f6-1780-4c02-b3d3-5dfe709cb220"
      },
      "execution_count": null,
      "outputs": [
        {
          "output_type": "stream",
          "name": "stdout",
          "text": [
            "-7\n"
          ]
        }
      ]
    },
    {
      "cell_type": "code",
      "source": [
        "def funcion(a,b,c):\n",
        "  print(a,b,c)\n",
        "\n",
        "values = (1,2,3)\n",
        "funcion(*values)"
      ],
      "metadata": {
        "colab": {
          "base_uri": "https://localhost:8080/"
        },
        "id": "xRC15ky2957p",
        "outputId": "e5ab9283-bad7-4b2a-b80f-7d17ebfa8830"
      },
      "execution_count": null,
      "outputs": [
        {
          "output_type": "stream",
          "name": "stdout",
          "text": [
            "1 2 3\n"
          ]
        }
      ]
    },
    {
      "cell_type": "code",
      "source": [
        "a = ([1,2],[3,4])\n",
        "b = ([5,1],[2,1])\n",
        "\n",
        "c = [[sum(i * j for i, j in zip(r, c)) for c in zip(*b)]\n",
        "      for r in a]\n",
        "\n",
        "print(c)"
      ],
      "metadata": {
        "colab": {
          "base_uri": "https://localhost:8080/"
        },
        "id": "iGRZyPAbCW4M",
        "outputId": "910b0691-6585-414c-cca2-027a743f2b83"
      },
      "execution_count": null,
      "outputs": [
        {
          "output_type": "stream",
          "name": "stdout",
          "text": [
            "[[9, 3], [23, 7]]\n"
          ]
        }
      ]
    },
    {
      "cell_type": "code",
      "source": [
        "def mult_mat(a,b):\n",
        "  return [[sum(i * j for i, j in zip(r, c)) for c in zip(*b)]\n",
        "      for r in a]\n",
        "a = ([1,2],[3,4])\n",
        "b = ([5,1],[2,1])\n",
        "c = mult_mat(a,b)\n",
        "\n",
        "print(c)"
      ],
      "metadata": {
        "colab": {
          "base_uri": "https://localhost:8080/"
        },
        "id": "zziZp39QDhUC",
        "outputId": "d4c87eee-5da4-4167-e667-143a1ca3f617"
      },
      "execution_count": null,
      "outputs": [
        {
          "output_type": "stream",
          "name": "stdout",
          "text": [
            "[[9, 3], [23, 7]]\n"
          ]
        }
      ]
    },
    {
      "cell_type": "code",
      "source": [
        "from itertools import permutations\n",
        "print(list(permutations('ABC')))"
      ],
      "metadata": {
        "colab": {
          "base_uri": "https://localhost:8080/"
        },
        "id": "Zx5SCn_ALVzX",
        "outputId": "b0a284fb-33a3-47f7-f444-451fc893c4b6"
      },
      "execution_count": null,
      "outputs": [
        {
          "output_type": "stream",
          "name": "stdout",
          "text": [
            "[('A', 'B', 'C'), ('A', 'C', 'B'), ('B', 'A', 'C'), ('B', 'C', 'A'), ('C', 'A', 'B'), ('C', 'B', 'A')]\n"
          ]
        }
      ]
    },
    {
      "cell_type": "code",
      "source": [
        "from itertools import count\n",
        "\n",
        "for n in count(5, 3):\n",
        "  if n > 20:\n",
        "    break\n",
        "  print(n, end=', ')"
      ],
      "metadata": {
        "colab": {
          "base_uri": "https://localhost:8080/"
        },
        "id": "zkURfAopMc3G",
        "outputId": "61ceab24-f16a-4f99-a26c-bd365cfc63c4"
      },
      "execution_count": null,
      "outputs": [
        {
          "output_type": "stream",
          "name": "stdout",
          "text": [
            "5, 8, 11, 14, 17, 20, "
          ]
        }
      ]
    },
    {
      "cell_type": "code",
      "source": [
        "from pathlib import Path\n",
        "p = Path('.')\n",
        "for entry in p.glob('*'):\n",
        "  print('File:' if entry.is_file() else 'Folder:', entry)"
      ],
      "metadata": {
        "colab": {
          "base_uri": "https://localhost:8080/"
        },
        "id": "nZ_-UZKSV1bm",
        "outputId": "062432d4-4c86-452b-9d7b-0937ee5941c6"
      },
      "execution_count": null,
      "outputs": [
        {
          "output_type": "stream",
          "name": "stdout",
          "text": [
            "Folder: .config\n",
            "Folder: sample_data\n"
          ]
        }
      ]
    },
    {
      "cell_type": "code",
      "source": [
        "import json\n",
        "info = {\n",
        "    'full_name': 'Sherlock Holmes',\n",
        "    'address': {\n",
        "    'street': '221B Baker St',\n",
        "    'zip': 'NW1 6XE',\n",
        "    'city': 'London',\n",
        "    'country': 'UK',\n",
        "  }\n",
        "}\n",
        "\n",
        "print(json.dumps(info, indent=2, sort_keys=True))"
      ],
      "metadata": {
        "colab": {
          "base_uri": "https://localhost:8080/"
        },
        "id": "aQ3ZabuqWJjf",
        "outputId": "c8204b0a-86d4-4005-c9d9-f4b2d8527a5b"
      },
      "execution_count": null,
      "outputs": [
        {
          "output_type": "stream",
          "name": "stdout",
          "text": [
            "{\n",
            "  \"address\": {\n",
            "    \"city\": \"London\",\n",
            "    \"country\": \"UK\",\n",
            "    \"street\": \"221B Baker St\",\n",
            "    \"zip\": \"NW1 6XE\"\n",
            "  },\n",
            "  \"full_name\": \"Sherlock Holmes\"\n",
            "}\n"
          ]
        }
      ]
    },
    {
      "cell_type": "code",
      "source": [
        "import io\n",
        "\n",
        "stream = io.StringIO()\n",
        "stream.write('Learning Python Programming.\\n')\n",
        "print('Become a Python ninja!', file=stream)\n",
        "\n",
        "contents = stream.getvalue()\n",
        "print(contents)\n",
        "\n",
        "stream.close()"
      ],
      "metadata": {
        "colab": {
          "base_uri": "https://localhost:8080/"
        },
        "id": "xSfPoADaWu6d",
        "outputId": "e91b3253-50ad-49fd-f65c-d5a15eff3401"
      },
      "execution_count": null,
      "outputs": [
        {
          "output_type": "stream",
          "name": "stdout",
          "text": [
            "Learning Python Programming.\n",
            "Become a Python ninja!\n",
            "\n"
          ]
        }
      ]
    },
    {
      "cell_type": "code",
      "source": [
        "with io.StringIO() as stream:\n",
        "  stream.write('Learning Python Programming.\\n')\n",
        "  print('Become a Python ninja!', file=stream)\n",
        "  contents = stream.getvalue()\n",
        "  print(contents)"
      ],
      "metadata": {
        "colab": {
          "base_uri": "https://localhost:8080/"
        },
        "id": "rwe-XrM5YFBo",
        "outputId": "e7648b4f-452b-45ed-a8de-5aca0904a6a7"
      },
      "execution_count": null,
      "outputs": [
        {
          "output_type": "stream",
          "name": "stdout",
          "text": [
            "Learning Python Programming.\n",
            "Become a Python ninja!\n",
            "\n"
          ]
        }
      ]
    },
    {
      "cell_type": "code",
      "source": [
        "import requests\n",
        "url = 'https://httpbin.org/post'\n",
        "data = dict(title='Learn Python Programming')\n",
        "resp = requests.post(url, data=data)\n",
        "print('Response for POST')\n",
        "print(resp.json())"
      ],
      "metadata": {
        "colab": {
          "base_uri": "https://localhost:8080/"
        },
        "id": "YlUbxKhrYNRT",
        "outputId": "6e3912fc-f142-4530-96e5-aa8f730a8eb2"
      },
      "execution_count": null,
      "outputs": [
        {
          "output_type": "stream",
          "name": "stdout",
          "text": [
            "Response for POST\n",
            "{'args': {}, 'data': '', 'files': {}, 'form': {'title': 'Learn Python Programming'}, 'headers': {'Accept': '*/*', 'Accept-Encoding': 'gzip, deflate', 'Content-Length': '30', 'Content-Type': 'application/x-www-form-urlencoded', 'Host': 'httpbin.org', 'User-Agent': 'python-requests/2.31.0', 'X-Amzn-Trace-Id': 'Root=1-65090ea8-2f9d82d230b0eea52117e179'}, 'json': None, 'origin': '35.229.112.33', 'url': 'https://httpbin.org/post'}\n"
          ]
        }
      ]
    },
    {
      "cell_type": "code",
      "source": [
        "import shutil\n",
        "from pathlib import Path\n",
        "\n",
        "base_path = Path('ops_example')\n",
        "\n",
        "# let's perform an initial cleanup just in case\n",
        "if base_path.exists() and base_path.is_dir():\n",
        "    shutil.rmtree(base_path)\n",
        "\n",
        "# now we create the directory\n",
        "base_path.mkdir()\n",
        "path_b = base_path / 'A' / 'B'\n",
        "path_c = base_path / 'A' / 'C'\n",
        "path_d = base_path / 'A' / 'D'\n",
        "path_b.mkdir(parents=True)\n",
        "path_c.mkdir()  # no need for parents now, as 'A' has been created\n",
        "\n",
        "# we add three files in 'ops_example/A/B'\n",
        "for filename in ('ex1.txt', 'ex2.txt', 'ex3.txt'):\n",
        "    with open(path_b / filename, 'w') as stream:\n",
        "        stream.write(f'Some content here in {filename}\\n')\n",
        "shutil.move(path_b, path_d)\n",
        "\n",
        "# we can also rename files\n",
        "ex1 = path_d / 'ex1.txt'\n",
        "ex1.rename(ex1.parent / 'ex1.renamed.txt')"
      ],
      "metadata": {
        "colab": {
          "base_uri": "https://localhost:8080/"
        },
        "id": "2V61TLOaufLZ",
        "outputId": "e22bbc16-ba61-4e0b-d4eb-8d5ea2a4b023"
      },
      "execution_count": null,
      "outputs": [
        {
          "output_type": "execute_result",
          "data": {
            "text/plain": [
              "PosixPath('ops_example/A/D/ex1.renamed.txt')"
            ]
          },
          "metadata": {},
          "execution_count": 1
        }
      ]
    },
    {
      "cell_type": "code",
      "source": [
        "import os\n",
        "\n",
        "for root, dirs, files in os.walk('.'):\n",
        "    abs_root = os.path.abspath(root)\n",
        "    print(abs_root)\n",
        "    if dirs:\n",
        "        print('Directories:')\n",
        "        for dir_ in dirs:\n",
        "            print(os.path.join(abs_root, dir_))\n",
        "    if files:\n",
        "        print('Files:')\n",
        "        for filename in files:\n",
        "            print(filename)\n",
        "    print()"
      ],
      "metadata": {
        "colab": {
          "base_uri": "https://localhost:8080/"
        },
        "id": "gQM3xDRsu2zW",
        "outputId": "fdb02a64-c219-4df6-f7dc-f09c66a45753"
      },
      "execution_count": null,
      "outputs": [
        {
          "output_type": "stream",
          "name": "stdout",
          "text": [
            "/content\n",
            "Directories:\n",
            "/content/.config\n",
            "/content/ops_example\n",
            "/content/sample_data\n",
            "\n",
            "/content/.config\n",
            "Directories:\n",
            "/content/.config/logs\n",
            "/content/.config/configurations\n",
            "Files:\n",
            "config_sentinel\n",
            ".last_opt_in_prompt.yaml\n",
            "gce\n",
            ".last_survey_prompt.yaml\n",
            ".last_update_check.json\n",
            "active_config\n",
            "default_configs.db\n",
            "\n",
            "/content/.config/logs\n",
            "Directories:\n",
            "/content/.config/logs/2023.09.19\n",
            "\n",
            "/content/.config/logs/2023.09.19\n",
            "Files:\n",
            "13.42.45.189602.log\n",
            "13.44.05.944792.log\n",
            "13.43.10.476557.log\n",
            "13.43.34.416869.log\n",
            "13.44.06.684833.log\n",
            "13.43.41.523189.log\n",
            "\n",
            "/content/.config/configurations\n",
            "Files:\n",
            "config_default\n",
            "\n",
            "/content/ops_example\n",
            "Directories:\n",
            "/content/ops_example/A\n",
            "\n",
            "/content/ops_example/A\n",
            "Directories:\n",
            "/content/ops_example/A/C\n",
            "/content/ops_example/A/D\n",
            "\n",
            "/content/ops_example/A/C\n",
            "\n",
            "/content/ops_example/A/D\n",
            "Files:\n",
            "ex1.renamed.txt\n",
            "ex3.txt\n",
            "ex2.txt\n",
            "\n",
            "/content/sample_data\n",
            "Files:\n",
            "README.md\n",
            "anscombe.json\n",
            "mnist_train_small.csv\n",
            "mnist_test.csv\n",
            "california_housing_train.csv\n",
            "california_housing_test.csv\n",
            "\n"
          ]
        }
      ]
    },
    {
      "cell_type": "code",
      "source": [
        "import json\n",
        "\n",
        "class ComplexEncoder(json.JSONEncoder):\n",
        "    def default(self, obj):\n",
        "        print(f\"ComplexEncoder.default: {obj=}\")\n",
        "        if isinstance(obj, complex):\n",
        "            return {\n",
        "                '_meta': '_complex',\n",
        "                'num': [obj.real, obj.imag],\n",
        "            }\n",
        "        return super().default(obj)\n",
        "\n",
        "def object_hook(obj):\n",
        "    print(f\"object_hook: {obj=}\")\n",
        "    try:\n",
        "        if obj['_meta'] == '_complex':\n",
        "            return complex(*obj['num'])\n",
        "    except KeyError:\n",
        "        return obj\n",
        "\n",
        "def object_hook(obj):\n",
        "    print(f\"object_hook: {obj=}\")\n",
        "    try:\n",
        "        if obj['_meta'] == '_complex':\n",
        "            return complex(*obj['num'])\n",
        "    except KeyError:\n",
        "        return obj\n",
        "\n",
        "data = {\n",
        "    'an_int': 42,\n",
        "    'a_float': 3.14159265,\n",
        "    'a_complex': 3 + 4j,\n",
        "}\n",
        "json_data = json.dumps(data, cls=ComplexEncoder)\n",
        "print(json_data)\n",
        "\n",
        "data_out = json.loads(json_data, object_hook=object_hook)\n",
        "print(data_out)"
      ],
      "metadata": {
        "colab": {
          "base_uri": "https://localhost:8080/"
        },
        "id": "d6p5yCCUvHSe",
        "outputId": "1426c74b-0de9-4e57-fae5-fb513bb4e6d6"
      },
      "execution_count": null,
      "outputs": [
        {
          "output_type": "stream",
          "name": "stdout",
          "text": [
            "ComplexEncoder.default: obj=(3+4j)\n",
            "{\"an_int\": 42, \"a_float\": 3.14159265, \"a_complex\": {\"_meta\": \"_complex\", \"num\": [3.0, 4.0]}}\n",
            "object_hook: obj={'_meta': '_complex', 'num': [3.0, 4.0]}\n",
            "object_hook: obj={'an_int': 42, 'a_float': 3.14159265, 'a_complex': (3+4j)}\n",
            "{'an_int': 42, 'a_float': 3.14159265, 'a_complex': (3+4j)}\n"
          ]
        }
      ]
    },
    {
      "cell_type": "code",
      "source": [
        "from pathlib import Path\n",
        "\n",
        "# Crear un objeto de ruta para 'fear.txt'\n",
        "p = Path('fear.txt')\n",
        "\n",
        "# Imprimir la ruta absoluta del archivo\n",
        "print(\"Ruta absoluta:\", p.absolute())\n",
        "\n",
        "# Imprimir el nombre del archivo\n",
        "print(\"Nombre del archivo:\", p.name)\n",
        "\n",
        "# Imprimir la ruta absoluta del directorio padre del archivo\n",
        "print(\"Ruta absoluta del directorio padre:\", p.parent.absolute())\n",
        "\n",
        "# Imprimir la extensión del archivo (si la tiene)\n",
        "print(\"Extensión del archivo:\", p.suffix)\n",
        "\n",
        "# Imprimir las partes de la ruta del archivo\n",
        "print(\"Partes de la ruta:\", p.parts)\n",
        "\n",
        "# Imprimir las partes de la ruta absoluta del archivo\n",
        "print(\"Partes de la ruta absoluta:\", p.absolute().parts)\n",
        "\n",
        "# Crear una nueva ruta hacia 'README.rst' a partir de la ruta del archivo 'fear.txt'\n",
        "readme_path = p.parent / '..' / '..' / 'README.rst'\n",
        "\n",
        "# Imprimir la ruta absoluta de 'README.rst'\n",
        "print(\"Ruta absoluta de README.rst:\", readme_path.absolute())\n",
        "\n",
        "# Resolver la ruta de 'README.rst' para obtener la ruta canónica\n",
        "print(\"Ruta resuelta de README.rst:\", readme_path.resolve())\n",
        "from pathlib import Path\n",
        "\n",
        "# Crear un objeto de ruta para 'fear.txt'\n",
        "p = Path('fear.txt')\n",
        "\n",
        "# Imprimir la ruta absoluta del archivo\n",
        "print(\"Ruta absoluta:\", p.absolute())\n",
        "\n",
        "# Imprimir el nombre del archivo\n",
        "print(\"Nombre del archivo:\", p.name)\n",
        "\n",
        "# Imprimir la ruta absoluta del directorio padre del archivo\n",
        "print(\"Ruta absoluta del directorio padre:\", p.parent.absolute())\n",
        "\n",
        "# Imprimir la extensión del archivo (si la tiene)\n",
        "print(\"Extensión del archivo:\", p.suffix)\n",
        "\n",
        "# Imprimir las partes de la ruta del archivo\n",
        "print(\"Partes de la ruta:\", p.parts)\n",
        "\n",
        "# Imprimir las partes de la ruta absoluta del archivo\n",
        "print(\"Partes de la ruta absoluta:\", p.absolute().parts)\n",
        "\n",
        "# Crear una nueva ruta hacia 'README.rst' a partir de la ruta del archivo 'fear.txt'\n",
        "readme_path = p.parent / '..' / '..' / 'README.rst'\n",
        "\n",
        "# Imprimir la ruta absoluta de 'README.rst'\n",
        "print(\"Ruta absoluta de README.rst:\", readme_path.absolute())\n",
        "\n",
        "# Resolver la ruta de 'README.rst' para obtener la ruta canónica\n",
        "print(\"Ruta resuelta de README.rst:\", readme_path.resolve())"
      ],
      "metadata": {
        "colab": {
          "base_uri": "https://localhost:8080/"
        },
        "id": "kcBurJuPyudF",
        "outputId": "59c56413-fb07-43d7-c14f-90e7541c264a"
      },
      "execution_count": null,
      "outputs": [
        {
          "output_type": "stream",
          "name": "stdout",
          "text": [
            "Ruta absoluta: /content/fear.txt\n",
            "Nombre del archivo: fear.txt\n",
            "Ruta absoluta del directorio padre: /content\n",
            "Extensión del archivo: .txt\n",
            "Partes de la ruta: ('fear.txt',)\n",
            "Partes de la ruta absoluta: ('/', 'content', 'fear.txt')\n",
            "Ruta absoluta de README.rst: /content/../../README.rst\n",
            "Ruta resuelta de README.rst: /README.rst\n",
            "Ruta absoluta: /content/fear.txt\n",
            "Nombre del archivo: fear.txt\n",
            "Ruta absoluta del directorio padre: /content\n",
            "Extensión del archivo: .txt\n",
            "Partes de la ruta: ('fear.txt',)\n",
            "Partes de la ruta absoluta: ('/', 'content', 'fear.txt')\n",
            "Ruta absoluta de README.rst: /content/../../README.rst\n",
            "Ruta resuelta de README.rst: /README.rst\n"
          ]
        }
      ]
    },
    {
      "cell_type": "code",
      "source": [
        "from tempfile import NamedTemporaryFile, TemporaryDirectory\n",
        "with TemporaryDirectory(dir='.') as td:\n",
        "  print('Temp directory:', td)\n",
        "  with NamedTemporaryFile(dir=td) as t:\n",
        "    name = t.name\n",
        "    print(name)"
      ],
      "metadata": {
        "colab": {
          "base_uri": "https://localhost:8080/"
        },
        "id": "b-ET6boG0kzS",
        "outputId": "5e4595c6-a5af-4736-917e-dc7fd3c42e67"
      },
      "execution_count": null,
      "outputs": [
        {
          "output_type": "stream",
          "name": "stdout",
          "text": [
            "Temp directory: ./tmpgtkqkwaq\n",
            "/content/tmpgtkqkwaq/tmpcx1pfpzh\n"
          ]
        }
      ]
    }
  ]
}